{
 "cells": [
  {
   "cell_type": "markdown",
   "metadata": {},
   "source": [
    "# Calculate CVA use GP for Option Portfolio\n",
    "The purpose of this notebook is to demonstrate the use of a Gaussian Process Regression model (GP) in CVA modeling of a derivative portfolio. In this notebook, European option prices are generated from the Black-Scholes model.  The notebook illustrate the CVA estimation for a portfolio which is short a put and long two calls.  The GP model is combined with an Euler time-stepper to generate a GP MtM cube. The expected positive exposure of the portfolio is compared using exact derivative prices and GP derivative prices."
   ]
  },
  {
   "cell_type": "code",
   "execution_count": null,
   "metadata": {},
   "outputs": [],
   "source": [
    "import numpy as np\n",
    "\n",
    "from sklearn import gaussian_process\n",
    "from sklearn.gaussian_process.kernels import WhiteKernel, ConstantKernel, RBF\n",
    "\n",
    "import matplotlib.pyplot as plt\n",
    "plt.style.use('ggplot')\n",
    "from mpl_toolkits import mplot3d\n",
    "from mpl_toolkits.mplot3d import Axes3D\n",
    "from matplotlib import cm\n",
    "\n",
    "import sys\n",
    "sys.path.append('../')\n",
    "from BlackScholes import bsformula\n",
    "from GBMSim import gbm\n",
    "\n",
    "import warnings\n",
    "warnings.filterwarnings(\"ignore\")\n",
    "%matplotlib inline"
   ]
  },
  {
   "cell_type": "markdown",
   "metadata": {},
   "source": [
    "Train GPs to a static representation of the option price surface at time snapshots of maturities"
   ]
  },
  {
   "cell_type": "code",
   "execution_count": null,
   "metadata": {},
   "outputs": [],
   "source": [
    "def trainGPs(x_train, f, timegrid):\n",
    "\n",
    "    gps = []\n",
    "    i = 0\n",
    "    for time in timegrid:\n",
    "        \n",
    "        y_train = []\n",
    "        \n",
    "        for idx in range(len(x_train)):\n",
    "             y_train.append(f(x_train[idx], time))\n",
    "        y_train = np.array(y_train)\n",
    "\n",
    "        sk_kernel = RBF(length_scale=1.0, length_scale_bounds=(0.01, 100.0))  #100000.0\n",
    "        gp = gaussian_process.GaussianProcessRegressor(kernel=sk_kernel, n_restarts_optimizer=20)\n",
    "        gp.fit(x_train,y_train)\n",
    "        gps.append(gp)\n",
    "        i += 1\n",
    "    return gps   "
   ]
  },
  {
   "cell_type": "markdown",
   "metadata": {},
   "source": [
    "Predict the option prices over a timegrid of different maturities"
   ]
  },
  {
   "cell_type": "code",
   "execution_count": null,
   "metadata": {},
   "outputs": [],
   "source": [
    "def predictGPs(x_test, f, gps, timegrid):\n",
    "    \n",
    "    preds = []\n",
    "    stds = []\n",
    "    y_tests = []\n",
    "    i = 0\n",
    "    for time in timegrid:\n",
    "        \n",
    "        y_test_= []\n",
    "        for idx in range(len(x_test)):\n",
    "            y_test_.append(f(x_test[idx], time))\n",
    "            \n",
    "        y_test = np.array(y_test_)\n",
    "        y_tests.append(y_test)\n",
    "        \n",
    "        # Find optimal model hyperparameters\n",
    "        # Set into eval mode\n",
    "        pred, std = gps[i].predict(x_test,return_std=True)\n",
    "        preds.append(pred)\n",
    "        stds.append(std)\n",
    "        i+=1\n",
    "    return y_tests, preds, stds "
   ]
  },
  {
   "cell_type": "markdown",
   "metadata": {},
   "source": [
    "## Black-Scholes derivative portfolio"
   ]
  },
  {
   "cell_type": "code",
   "execution_count": null,
   "metadata": {},
   "outputs": [],
   "source": [
    "# specify the portfolio\n",
    "KC = 110    # Call strike\n",
    "KP = 90     # Put strike\n",
    "lb = 0.01\n",
    "ub = 400\n",
    "r  = 0\n",
    "sigma = 0.3\n",
    "nt = 11\n",
    "T = 2.0\n",
    "S0 = 100\n",
    "timegrid = np.array(np.linspace(0.0 ,T, nt), dtype='float32').reshape(nt, 1)\n",
    "\n",
    "\n",
    "portfolio = {}\n",
    "portfolio['call'] = {}\n",
    "portfolio['put'] = {}\n",
    "\n",
    "portfolio['call']['price']= lambda x,y: bsformula(1, lb+(ub-lb)*x, KC, r, y, sigma, 0)[0]\n",
    "portfolio['put']['price']= lambda x,y: bsformula(-1, lb+(ub-lb)*x, KP, r, y, sigma, 0)[0]\n",
    "portfolio['call']['weight']=2.0\n",
    "portfolio['put']['weight']=-1.0"
   ]
  },
  {
   "cell_type": "code",
   "execution_count": null,
   "metadata": {},
   "outputs": [],
   "source": [
    "# prepare training and test data\n",
    "training_number= 100\n",
    "testing_number = 50\n",
    "x_train = np.array(np.linspace(0.0,1.0, training_number), dtype='float32').reshape(training_number, 1)\n",
    "x_test = np.array(np.linspace(0.0,1.0, testing_number), dtype='float32').reshape(testing_number, 1)"
   ]
  },
  {
   "cell_type": "code",
   "execution_count": null,
   "metadata": {},
   "outputs": [],
   "source": [
    "# train and predict the portfolio of derivative prices over risk horizon.\n",
    "for key in portfolio.keys():\n",
    "    portfolio[key]['GPs'] = trainGPs(x_train, portfolio[key]['price'], timegrid)\n",
    "    portfolio[key]['y_tests'], portfolio[key]['preds'], portfolio[key]['sigmas'] = predictGPs(x_test, portfolio[key]['price'], portfolio[key]['GPs'], timegrid)"
   ]
  },
  {
   "cell_type": "code",
   "execution_count": null,
   "metadata": {},
   "outputs": [],
   "source": [
    "# CVA simulation using the credit default model described in the above reference.\n",
    "def CVA_simulation(sim_params, model_params, def_model):\n",
    "    \n",
    "    n_sim_dt = sim_params['n_sim_dt'] # number of Euler stpes\n",
    "    M        = sim_params['M']        # number of paths\n",
    "    nt       = sim_params['nt']       # number of exposure dates\n",
    "    timegrid = sim_params['timegrid'] # time grid of exposure dates\n",
    "    \n",
    "    r        = model_params['r']\n",
    "    sigma    = model_params['sigma']\n",
    "    T        = model_params['T'] \n",
    "    t0       = model_params['t0'] \n",
    "    S0       = model_params['S0'] \n",
    "    \n",
    "    gamma_0  = def_model['gamma_0']\n",
    "    gamma_1  = def_model['gamma_1']\n",
    "    \n",
    "    \n",
    "    stride = n_sim_dt/(nt-1)\n",
    "    idx = np.arange(0,n_sim_dt+1,stride, dtype=int)\n",
    "    \n",
    "    pi = {}\n",
    "    pi['tilde'] = np.array([0.0]*(nt-1)*M, dtype='float32').reshape((nt-1), M)     # GP portfolio value\n",
    "    pi['exact'] = np.array([0.0]*(nt-1)*M, dtype='float32').reshape((nt-1), M)     # BS portfolio value\n",
    "    pi['tilde_var'] = np.array([0.0]*(nt-1)*M, dtype='float32').reshape((nt-1), M) # GP portfolio variance\n",
    "    gamma = np.array([0.0]*(nt-1)*M, dtype='float32').reshape((nt-1), M)           # hazard rates\n",
    "    dPD = np.array([0.0]*(nt-1)*M, dtype='float32').reshape((nt-1), M)             # default probabilities\n",
    "    \n",
    "    #simulate underlying GBM dynamics using Euler\n",
    "    S = gbm(S0, r, sigma, T-t0, n_sim_dt, M)\n",
    "    \n",
    "    if (def_model['calibrate']):\n",
    "        x  = np.exp(S0/S)**gamma_1\n",
    "        # default probability (assumed to be estimated from credit spread)\n",
    "        dt = timegrid[1]-timegrid[0] \n",
    "        f  = lambda y: np.abs(np.mean(np.prod(x**(-y*dt), axis=0)) - def_model['p']) \n",
    "        res = sp.optimize.basinhopping(f, 0.1, niter=10)\n",
    "        i = 1   \n",
    "        while (abs(res.fun) >1e-3):   \n",
    "          res = sp.optimize.basinhopping(f, 0.1, niter=100*i)\n",
    "          i *= 2\n",
    "        gamma_0= res.x[0]\n",
    "        print(\"calibration:\", gamma_0, gamma_1, f(gamma_0), res.fun)  \n",
    "    \n",
    "    \n",
    "    for m in range(M):  \n",
    "      i = 1 \n",
    "      exp_factor=1\n",
    "        \n",
    "      for time in timegrid[1:]:\n",
    "        dt = timegrid[i]-timegrid[i-1] \n",
    "        \n",
    "        S_= S[idx[i],m] # simulated S\n",
    "        # avoid simulated S breaching boundaries of domain\n",
    "        if (S_<lb):\n",
    "            mins=S_\n",
    "            S_=lb\n",
    "        if (S_>ub):\n",
    "            S_=ub\n",
    "            maxs=S_\n",
    "    \n",
    "        pred_= 0\n",
    "        v_ = 0\n",
    "        var_ =0 \n",
    "    \n",
    "        for key in portfolio.keys():\n",
    "           pred, std = portfolio[key]['GPs'][i].predict(np.array([(S_-lb)/(ub-lb)]).reshape(1,-1),return_std=True) \n",
    "           pred_ += portfolio[key]['weight']*pred\n",
    "           var_ += (portfolio[key]['weight']*std)**2 \n",
    "       \n",
    "           if key=='call':\n",
    "              v_ += portfolio[key]['weight']*bsformula(1, S_, KC, r, time, sigma, 0)[0]\n",
    "           else:\n",
    "              v_ += portfolio[key]['weight']*bsformula(-1, S_, KP, r, time, sigma, 0)[0]\n",
    "        pi['tilde'][i-1,m] = np.maximum(pred_,0)\n",
    "        pi['exact'][i-1,m] = np.maximum(v_,0)\n",
    "        pi['tilde_var'][i-1,m] =var_ \n",
    "          \n",
    "        # default intensity model\n",
    "        gamma[i-1,m] = gamma_0*(S0/S_)**gamma_1    \n",
    "        \n",
    "        # compute default probabilities  \n",
    "        exp_factor*=np.exp(-dt*gamma[i-1,m])    \n",
    "        dPD[i-1,m]= gamma[i-1,m]*exp_factor\n",
    "        \n",
    "        i += 1\n",
    "    # compute CVA\n",
    "    i = 0\n",
    "    CVA ={}\n",
    "    CVA['tilde'] = 0\n",
    "    CVA['exact'] = 0\n",
    "    CVA['tilde_up'] = 0\n",
    "    CVA['tilde_down'] = 0\n",
    "   \n",
    "    for time in timegrid[1:]:\n",
    "        dt = timegrid[i+1]-timegrid[i]\n",
    "        mu_tilde = np.mean(dPD[i,:]*pi['tilde'][i,:])*np.exp(-r*(time-t0))*dt\n",
    "        CVA['tilde'] += mu_tilde\n",
    "        std_err_MC = np.std(dPD[i,:]*pi['tilde'][i,:])*np.exp(-r*(time-t0))*dt/np.sqrt(M)\n",
    "        CVA['tilde_up'] += mu_tilde + 2.0*std_err_MC\n",
    "        CVA['tilde_down'] += mu_tilde - 2.0*std_err_MC\n",
    "        CVA['exact'] += np.mean(dPD[i,:]*pi['exact'][i,:])*np.exp(-r*(time-t0))*dt\n",
    "        i+=1\n",
    "    CVA['tilde'] *= (1 - def_model['recovery'])\n",
    "    CVA['tilde_up'] *= (1 - def_model['recovery'])\n",
    "    CVA['tilde_down'] *= (1 - def_model['recovery'])\n",
    "    CVA['exact'] *= (1 - def_model['recovery'])\n",
    "        \n",
    "    return(CVA, pi)"
   ]
  },
  {
   "cell_type": "markdown",
   "metadata": {},
   "source": [
    "# CVA"
   ]
  },
  {
   "cell_type": "code",
   "execution_count": null,
   "metadata": {},
   "outputs": [],
   "source": [
    "sim_params = {}\n",
    "model_params = {}\n",
    "def_model = {}\n",
    "  \n",
    "model_params['r'] = r        # risk-free rate\n",
    "model_params['sigma'] = sigma  # implied volatility\n",
    "model_params['T'] = T        # Time to maturity \n",
    "model_params['t0'] = 0\n",
    "model_params['S0'] = S0     # Underlying spot\n",
    "     \n",
    "# parameters of the default intensity model    \n",
    "def_model['gamma_0'] = 0.01\n",
    "def_model['gamma_1'] = 1.2\n",
    "def_model['calibrate'] = False    \n",
    "def_model['recovery'] = 0.4\n",
    "\n",
    "sim_params['n_sim_dt'] = 100 # number of Euler stpes\n",
    "sim_params['M']  = 1000      # number of paths\n",
    "sim_params['nt'] = nt        # number of exposure dates\n",
    "\n",
    "sim_params['timegrid']= timegrid # time grid of exposure dates"
   ]
  },
  {
   "cell_type": "code",
   "execution_count": null,
   "metadata": {},
   "outputs": [],
   "source": [
    "# train and predict over portfolio, then perform the CVA simulation to give the GP MTM cube\n",
    "for key in portfolio.keys():\n",
    "    portfolio[key]['GPs'] = trainGPs(x_train, portfolio[key]['price'], timegrid)\n",
    "    portfolio[key]['y_tests'], portfolio[key]['preds'], portfolio[key]['sigmas'] = predictGPs(x_test, portfolio[key]['price'], portfolio[key]['GPs'], timegrid)\n",
    "\n",
    "CVA_0, pi = CVA_simulation(sim_params, model_params, def_model)"
   ]
  },
  {
   "cell_type": "code",
   "execution_count": null,
   "metadata": {
    "scrolled": true
   },
   "outputs": [],
   "source": [
    "# compare the exact CVA, i.e. using BS prices, with the GP portfolio and provide the GP error bounds \n",
    "CVA_0"
   ]
  },
  {
   "cell_type": "code",
   "execution_count": null,
   "metadata": {},
   "outputs": [],
   "source": [
    "# Error plot in expected positive exposure\n",
    "up = np.mean(pi['tilde'], axis=1) -np.mean(pi['exact'], axis=1)+2.0*np.sqrt(np.mean(pi['tilde_var'], axis=1))   # 95% confident interval \n",
    "down = np.mean(pi['tilde'], axis=1) -np.mean(pi['exact'], axis=1)- 2.0*np.sqrt(np.mean(pi['tilde_var'], axis=1))   # 95% confident interval \n",
    "\n",
    "plt.figure(figsize = (10,6),facecolor='white', edgecolor='black')\n",
    "plt.plot(timegrid[1:], np.mean(pi['exact'], axis=1)-np.mean(pi['tilde'], axis=1), color = 'black', label = 'Error in Expected Positive Exposure')\n",
    "plt.fill_between(timegrid[1:].flatten(), np.array(down), np.array(up), color = 'grey', alpha=0.3)\n",
    "plt.grid(True)\n",
    "#plt.xlim(90, 110)\n",
    "plt.xlabel('time')\n",
    "plt.ylabel('Error in Expected Positive Exposure')\n",
    "plt.legend(loc = 'best', prop={'size':10})"
   ]
  },
  {
   "cell_type": "code",
   "execution_count": null,
   "metadata": {},
   "outputs": [],
   "source": []
  }
 ],
 "metadata": {
  "kernelspec": {
   "display_name": "Python 3",
   "language": "python",
   "name": "python3"
  },
  "language_info": {
   "codemirror_mode": {
    "name": "ipython",
    "version": 3
   },
   "file_extension": ".py",
   "mimetype": "text/x-python",
   "name": "python",
   "nbconvert_exporter": "python",
   "pygments_lexer": "ipython3",
   "version": "3.7.6"
  }
 },
 "nbformat": 4,
 "nbformat_minor": 4
}
